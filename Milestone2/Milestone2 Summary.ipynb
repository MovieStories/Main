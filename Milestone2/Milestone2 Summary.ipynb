{
 "cells": [
  {
   "cell_type": "markdown",
   "metadata": {
    "collapsed": true,
    "deletable": true,
    "editable": true
   },
   "source": [
    "** I. Discussion about the imbalanced nature of the data and how you want to address it **\n",
    "\n",
    "There are huge imbalances between genres and combinations of genres. since 40% of movies are labeled as drama  Since drama comprises a huge proportion of the megadata, we will study the features of drama vs. non-drama movies. We will consider stratify sampling. \n"
   ]
  },
  {
   "cell_type": "markdown",
   "metadata": {},
   "source": [
    "** II. Description of your data **\n",
    "\n",
    "We use movie ID in IMDb to merge the desired information in the megadata from IMDb and TMDb. We have 226,910 movies in our data after removing movies without genre information from neither IMDb nor TMDb. The Y values are the movie genres and X values are the movie features. If the genre labels are different from IMDb and TMDb for a movie, we keep the joint labels. If the genre labels are missing from one database, we use the genre tags from the other database directly. "
   ]
  },
  {
   "cell_type": "markdown",
   "metadata": {},
   "source": [
    "** III. What does your choice of Y look like? **\n",
    "\n",
    "We decide to use two sets of Y: 1) drama vs. non-drama 2) The top 20 most frequent genres and/or pairs of genres. We group all other less frequent genres together and threat as “others”. We may include the “others” in the modeling depending on whether it can contribute to the classification accuracy. "
   ]
  },
  {
   "cell_type": "markdown",
   "metadata": {},
   "source": [
    "** IV. Which features do you choose for X and why? **\n",
    "\n",
    "The X includes following 56 features:\n",
    "\n",
    "Movie ID, movie title, release date, year, popularity, votes (IMDb), vote average (TMDb), vote count, revenue, budget, runtime, spoken languages, status, episode, video, bottom 100 rank, cast, certificates, color info, countries, director, distributors, writer, adult, original language, overview, production companies, production countries, tagline, animation department headcount, art department headcount, art direction headcount, assistant director headcount, camera and electrical department headcount, cast headcount, casting department headcount, casting director headcount, cinematographer headcount, costume department headcount, costume designer headcount, creator headcount, director headcount, distributors headcount, editor headcount, editorial department headcount, electrical department headcount, transportation department headcount, visual effects count, writer headcount, title length, overview length, production company number, production country number, spoken languages choice, tagline length, and total crew headcount.\n",
    "\n",
    "We believe these attributes convey the information that are useful for classifying movies by genres. "
   ]
  },
  {
   "cell_type": "markdown",
   "metadata": {},
   "source": [
    "** V. How do you sample your data, how many samples, and why? **\n",
    "\n",
    "For the megadata, we have downloaded all the data from IMDb and TMDb, and we plan to apply our models and methods on the entire dataset. For the posters, due to the we will randomly select 300 posters from each decade. \n"
   ]
  },
  {
   "cell_type": "code",
   "execution_count": null,
   "metadata": {
    "collapsed": true
   },
   "outputs": [],
   "source": []
  }
 ],
 "metadata": {
  "kernelspec": {
   "display_name": "Python [conda env:python2]",
   "language": "python",
   "name": "conda-env-python2-py"
  },
  "language_info": {
   "codemirror_mode": {
    "name": "ipython",
    "version": 2
   },
   "file_extension": ".py",
   "mimetype": "text/x-python",
   "name": "python",
   "nbconvert_exporter": "python",
   "pygments_lexer": "ipython2",
   "version": "2.7.13"
  }
 },
 "nbformat": 4,
 "nbformat_minor": 2
}
