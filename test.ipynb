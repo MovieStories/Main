{
 "cells": [
  {
   "cell_type": "code",
   "execution_count": 28,
   "metadata": {
    "collapsed": false
   },
   "outputs": [],
   "source": [
    "from imdb import IMDb\n",
    "import time\n",
    "import pickle"
   ]
  },
  {
   "cell_type": "code",
   "execution_count": 61,
   "metadata": {
    "collapsed": false
   },
   "outputs": [
    {
     "name": "stderr",
     "output_type": "stream",
     "text": [
      "2017-03-31 14:00:34,779 WARNING [imdbpy.parser.http.urlopener] /Users/hung-yiwu/anaconda/lib/python2.7/site-packages/IMDbPY-5.1-py2.7-macosx-10.6-x86_64.egg/imdb/parser/http/__init__.py:248: 404 code returned for //akas.imdb.com/title/tt9219827/combined: Not Found (headers: Date: Fri, 31 Mar 2017 18:00:34 GMT\n",
      "Server: HTTPDaemon\n",
      "X-Frame-Options: SAMEORIGIN\n",
      "Cache-Control: private\n",
      "Content-Type: text/html; charset=iso-8859-1\n",
      "Set-Cookie: cache=BCYjTxsuboGqyOZ3YXjGMnZ19QqZwWDrPpq_hNwdRJ3XCv__7hKohNo5PYFQnIm_6EKA4gxcRZ3OTY0GEuvH_IsjUUZ7QLzTYxkcb8Xzxrwpbuk;path=/;domain=.imdb.com\n",
      "Set-Cookie: uu=BCYsXSKIejU6NbtUhBukT7F7pguZwWDrPpq_hNwdRJ3XCv8sPjlhWc8siYjyjSJcfDSvA-aQ0mXUP3YVt1nI3739bewKBYuLb7iD47Aobmd8lvXVAJJnPI6eWjn5LGxY_aut6ylOm8Z42FzO-U7Ff0K3s7eA5VJwn0CrPGthEz0nFHjWuuXIc1r_fxKerzv466FS1cQzm3exxU--eRVpP13KQDYfO_qEtxgNt6xB1Riz3z0cQT2LF5FZ-oVZw7efOO3xi0sFm0tUR4PmoO8QkTHYnVGYBQBHCzwZyZcSPY_qYEOGfTIEJuCHKlhmQhmH_pltW0KFJ7lA4-r_v8KGYqrePg;expires=Thu, 30 Dec 2037 00:00:00 GMT;path=/;domain=.imdb.com\n",
      "Set-Cookie: cache=BCYrlPdzp3ZilVre_GFLOZsJRwyZwWDrPpq_hNwdRJ3XCv9u6GznCd8K8MTsNWRu8NXXC_rQqIAEIRnASyHNfY70TM82OjVLnBukhRwIKQnGb8iA9TOzHC0WUlyyrmNhCXpn5t2TNncrnVwIkzRqKBEOqTvduaZtHh4vhHoVGkT5zIguQEyxX79KeaLc8v8e_DEg;path=/;domain=.imdb.com\n",
      "Set-Cookie: session-id=905-0983234-9218181;path=/;domain=.imdb.com;expires=Wed, 30 Mar 2022 11:00:34 GMT\n",
      "Set-Cookie: session-id-time=1648663234;path=/;domain=.imdb.com;expires=Wed, 30 Mar 2022 11:00:34 GMT\n",
      "Vary: Accept-Encoding,User-Agent\n",
      "P3P: policyref=\"http://i.imdb.com/images/p3p.xml\",CP=\"CAO DSP LAW CUR ADM IVAo IVDo CONo OTPo OUR DELi PUBi OTRi BUS PHY ONL UNI PUR FIN COM NAV INT DEM CNT STA HEA PRE LOC GOV OTC \"\n",
      "Connection: close\n",
      ")\n",
      "2017-03-31 14:00:34,861 WARNING [imdbpy.parser.http.urlopener] /Users/hung-yiwu/anaconda/lib/python2.7/site-packages/IMDbPY-5.1-py2.7-macosx-10.6-x86_64.egg/imdb/parser/http/__init__.py:248: 404 code returned for //akas.imdb.com/title/tt9219827/plotsummary: Not Found (headers: Date: Fri, 31 Mar 2017 18:00:34 GMT\n",
      "Server: Server\n",
      "X-Frame-Options: SAMEORIGIN\n",
      "Content-Security-Policy: frame-ancestors 'self' imdb.com *.imdb.com *.media-imdb.com withoutabox.com *.withoutabox.com amazon.com *.amazon.com amazon.co.uk *.amazon.co.uk amazon.de *.amazon.de translate.google.com images.google.com www.google.com www.google.co.uk search.aol.com bing.com www.bing.com\n",
      "Content-Type: text/html;charset=UTF-8\n",
      "Content-Language: en-US\n",
      "Vary: Accept-Encoding,User-Agent\n",
      "P3P: policyref=\"http://i.imdb.com/images/p3p.xml\",CP=\"CAO DSP LAW CUR ADM IVAo IVDo CONo OTPo OUR DELi PUBi OTRi BUS PHY ONL UNI PUR FIN COM NAV INT DEM CNT STA HEA PRE LOC GOV OTC \"\n",
      "Connection: close\n",
      ")\n"
     ]
    },
    {
     "name": "stdout",
     "output_type": "stream",
     "text": [
      "\n"
     ]
    }
   ],
   "source": [
    "ia = IMDb()\n",
    "movie1 = ia.get_movie('9219827')\n",
    "print movie1"
   ]
  },
  {
   "cell_type": "code",
   "execution_count": 47,
   "metadata": {
    "collapsed": false,
    "scrolled": true
   },
   "outputs": [
    {
     "name": "stderr",
     "output_type": "stream",
     "text": [
      "2017-03-31 13:38:48,491 WARNING [imdbpy.parser.http.urlopener] /Users/hung-yiwu/anaconda/lib/python2.7/site-packages/IMDbPY-5.1-py2.7-macosx-10.6-x86_64.egg/imdb/parser/http/__init__.py:248: 404 code returned for //akas.imdb.com/title/tt0000000/combined: Not Found (headers: Date: Fri, 31 Mar 2017 17:38:47 GMT\n",
      "Server: HTTPDaemon\n",
      "X-Frame-Options: SAMEORIGIN\n",
      "Cache-Control: private\n",
      "Content-Type: text/html; charset=iso-8859-1\n",
      "Set-Cookie: cache=BCYhfKd_-3fY5cXKj9YFa6vYgJNdTWGEDk1pmtAyJZSEXhqXstfvtFby5S_8gCNgrswYOB0eetxJpSB7FCHADKp_omavDD8kdBMtLdZNKB0isqg;path=/;domain=.imdb.com\n",
      "Set-Cookie: uu=BCYomu4Qnt4TQEnXgRBlzPKhj5RdTWGEDk1pmtAyJZSEXho74QO0AlGRlEIdQvuFh-TEMcWahyjrXfbxgO_aDP90fIZesFlT7_hdJd3VAOkRW48YO--eYIWJrLp_1zLEADScHF_vxH1McA-2BK_hioj4SCA1_q3Rbq9-YgGlO95OdcdX6AOIHDjUwCloR19enc6oQp1NPtMwY3z_ODnWbVOFr4mW6D29L1Kwur5CN7lvFXBrKBnabz43Dx1HKgheu_bfeDYm1s5vqKGsNFc3n1y2ET65cBvemF4t1PH5PwiDzYj-oVswU_ZL_5i7ZSe7mmumHs1WQMWhz_WdtKedzcJESg;expires=Thu, 30 Dec 2037 00:00:00 GMT;path=/;domain=.imdb.com\n",
      "Set-Cookie: cache=BCYhupXrZUCjv-KOupXwVKE4A5VdTWGEDk1pmtAyJZSEXhqqpx9nxGXjwZ_PY7F13zkRErtH9H2oc7iQfn9vRBj3mp6a77yJnKufSM4BlO9t-t6462pMxQprQGbcytrhM9hYwNNSOzUosQyrQ9vCQ0qmp1S3mkAJQ15AFuVDlP1mdAGpc_q0QZ8vOS8bjysy8KO6;path=/;domain=.imdb.com\n",
      "Set-Cookie: session-id=411-0981927-6978161;path=/;domain=.imdb.com;expires=Wed, 30 Mar 2022 10:38:47 GMT\n",
      "Set-Cookie: session-id-time=1648661927;path=/;domain=.imdb.com;expires=Wed, 30 Mar 2022 10:38:47 GMT\n",
      "Vary: Accept-Encoding,User-Agent\n",
      "P3P: policyref=\"http://i.imdb.com/images/p3p.xml\",CP=\"CAO DSP LAW CUR ADM IVAo IVDo CONo OTPo OUR DELi PUBi OTRi BUS PHY ONL UNI PUR FIN COM NAV INT DEM CNT STA HEA PRE LOC GOV OTC \"\n",
      "Connection: close\n",
      ")\n",
      "2017-03-31 13:38:48,564 WARNING [imdbpy.parser.http.urlopener] /Users/hung-yiwu/anaconda/lib/python2.7/site-packages/IMDbPY-5.1-py2.7-macosx-10.6-x86_64.egg/imdb/parser/http/__init__.py:248: 404 code returned for //akas.imdb.com/title/tt0000000/plotsummary: Not Found (headers: Date: Fri, 31 Mar 2017 17:38:47 GMT\n",
      "Server: Server\n",
      "X-Frame-Options: SAMEORIGIN\n",
      "Content-Security-Policy: frame-ancestors 'self' imdb.com *.imdb.com *.media-imdb.com withoutabox.com *.withoutabox.com amazon.com *.amazon.com amazon.co.uk *.amazon.co.uk amazon.de *.amazon.de translate.google.com images.google.com www.google.com www.google.co.uk search.aol.com bing.com www.bing.com\n",
      "Content-Type: text/html;charset=UTF-8\n",
      "Content-Language: en-US\n",
      "Vary: Accept-Encoding,User-Agent\n",
      "P3P: policyref=\"http://i.imdb.com/images/p3p.xml\",CP=\"CAO DSP LAW CUR ADM IVAo IVDo CONo OTPo OUR DELi PUBi OTRi BUS PHY ONL UNI PUR FIN COM NAV INT DEM CNT STA HEA PRE LOC GOV OTC \"\n",
      "Connection: close\n",
      ")\n"
     ]
    },
    {
     "name": "stdout",
     "output_type": "stream",
     "text": [
      "1.19980905056\n"
     ]
    }
   ],
   "source": [
    "t0 = time.time()\n",
    "movie_list = []\n",
    "for number in range(0, 20):\n",
    "    movie_id = str(number).zfill(7)\n",
    "    current_movie = ia.get_movie(movie_id)\n",
    "    if len(current_movie) is not 0:\n",
    "        movie_list.append(current_movie)\n",
    "t1 = time.time()\n",
    "print (t1-t0)/20"
   ]
  },
  {
   "cell_type": "code",
   "execution_count": 44,
   "metadata": {
    "collapsed": true
   },
   "outputs": [],
   "source": [
    "with open(\"test.txt\", \"wb\") as myfile:\n",
    "    pickle.dump(movie_list, myfile)"
   ]
  },
  {
   "cell_type": "code",
   "execution_count": 56,
   "metadata": {
    "collapsed": false
   },
   "outputs": [
    {
     "name": "stdout",
     "output_type": "stream",
     "text": [
      "1894\n",
      "1892\n",
      "1892\n",
      "1892\n",
      "1893\n",
      "1894\n",
      "1894\n",
      "1894\n",
      "1894\n",
      "1895\n",
      "1895\n",
      "1896\n",
      "1895\n",
      "1895\n",
      "1894\n",
      "1895\n",
      "1895\n",
      "1895\n",
      "1898\n"
     ]
    }
   ],
   "source": [
    "with open(\"test.txt\", \"rb\") as myfile:\n",
    "    b = pickle.load(myfile)\n",
    "for movie in b:\n",
    "    print movie['year']"
   ]
  }
 ],
 "metadata": {
  "anaconda-cloud": {},
  "kernelspec": {
   "display_name": "Python [default]",
   "language": "python",
   "name": "python2"
  },
  "language_info": {
   "codemirror_mode": {
    "name": "ipython",
    "version": 2
   },
   "file_extension": ".py",
   "mimetype": "text/x-python",
   "name": "python",
   "nbconvert_exporter": "python",
   "pygments_lexer": "ipython2",
   "version": "2.7.12"
  }
 },
 "nbformat": 4,
 "nbformat_minor": 1
}
