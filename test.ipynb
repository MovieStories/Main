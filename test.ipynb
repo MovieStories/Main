{
 "cells": [
  {
   "cell_type": "code",
   "execution_count": 5,
   "metadata": {
    "collapsed": false
   },
   "outputs": [],
   "source": [
    "import pickle\n",
    "import httplib\n",
    "import json\n",
    "\n",
    "def tmdb_get_latest_movie():\n",
    "    api_key = \"7fbe755e9e83c66a573c6482cefd23ed\"\n",
    "    conn = httplib.HTTPSConnection(\"api.themoviedb.org\")\n",
    "    conn.request(\"GET\", \n",
    "                 \"/3/movie/latest?api_key=\"+api_key, \n",
    "                 \"{}\")\n",
    "    return conn.getresponse().read().decode(\"utf-8\")\n",
    "\n",
    "def tmdb_get_movie_by_imdb_id(imdb_id):\n",
    "    api_key = \"7fbe755e9e83c66a573c6482cefd23ed\"\n",
    "    conn = httplib.HTTPSConnection(\"api.themoviedb.org\")\n",
    "    conn.request(\"GET\", \n",
    "                 \"/3/find/tt\"+str(imdb_id)+\"?api_key=\"+api_key+\"&external_source=imdb_id\", \n",
    "                 \"{}\")\n",
    "    return conn.getresponse().read().decode(\"utf-8\")\n",
    "\n",
    "def tmdb_get_movie_by_tmdb_id(tmdb_id):\n",
    "    api_key = \"7fbe755e9e83c66a573c6482cefd23ed\"\n",
    "    conn = httplib.HTTPSConnection(\"api.themoviedb.org\")\n",
    "    conn.request(\"GET\", \n",
    "                 \"/3/movie/\"+str(tmdb_id)+\"?api_key=\"+api_key, \n",
    "                 \"{}\")\n",
    "    return conn.getresponse().read().decode(\"utf-8\")\n",
    "\n",
    "def tmdb_get_adult(text):\n",
    "    return json.loads(text)['adult']\n",
    "\n",
    "def tmdb_get_collection(text):\n",
    "    return json.loads(text)['belongs_to_collection']\n",
    "\n",
    "def tmdb_get_budget(text):\n",
    "    return json.loads(text)['budget']\n",
    "\n",
    "def tmdb_get_genre(text):\n",
    "    dict_list = json.loads(text)['genres']\n",
    "    genre_list = []\n",
    "    for sub_dict in dict_list:\n",
    "        genre_list.append(sub_dict['name'])\n",
    "    return genre_list\n",
    "\n",
    "def tmdb_get_tmdb_id(text):\n",
    "    return json.loads(text)['id']\n",
    "\n",
    "def tmdb_get_imdb_id(text):\n",
    "    return json.loads(text)['imdb_id'][2::]\n",
    "\n",
    "def tmdb_get_title(text):\n",
    "    return json.loads(text)['title']\n",
    "\n",
    "def tmdb_get_overview(text):\n",
    "    return json.loads(text)['overview']\n",
    "\n",
    "def tmdb_get_production_companies(text):\n",
    "    return json.loads(text)['production_companies']\n",
    "\n",
    "def tmdb_get_production_countries(text):\n",
    "    return json.loads(text)['production_countries']\n",
    "\n",
    "def tmdb_get_release_date(text):\n",
    "    return json.loads(text)['release_date']\n",
    "\n",
    "def tmdb_get_runtime(text):\n",
    "    return json.loads(text)['runtime']\n",
    "\n",
    "def tmdb_get_spoken_languages(text):\n",
    "    return json.loads(text)['spoken_languages']\n",
    "\n",
    "def tmdb_get_poster_url(text):\n",
    "    return \"https://image.tmdb.org/t/p/w500\" + json.loads(text[1:-5])['poster_path']\n",
    "\n",
    "def tmdb_exist(text):\n",
    "    error_msg = \"The resource you requested could not be found.\"\n",
    "    if error_msg in text:\n",
    "        return False\n",
    "    else:\n",
    "        return True"
   ]
  },
  {
   "cell_type": "code",
   "execution_count": null,
   "metadata": {
    "collapsed": false
   },
   "outputs": [
    {
     "name": "stdout",
     "output_type": "stream",
     "text": [
      "downloaded movie id 411096/450717, movie exist? True"
     ]
    }
   ],
   "source": [
    "import time\n",
    "import sys\n",
    "import os\n",
    "\n",
    "dir_name = os.path.expanduser('~/tmdb_movie/')\n",
    "if not os.path.exists(dir_name):\n",
    "    os.makedirs(dir_name)\n",
    "\n",
    "latest_movie_text = tmdb_get_latest_movie()\n",
    "latest_movie_tmdb_id = tmdb_get_tmdb_id(latest_movie_text)\n",
    "time.sleep(0.26)\n",
    "\n",
    "for current_id in range(410946, int(latest_movie_tmdb_id)+1):\n",
    "    current_id_string = str(current_id).zfill(6)\n",
    "    current_movie_text = tmdb_get_movie_by_tmdb_id(current_id_string)\n",
    "    time.sleep(0.26)\n",
    "    if tmdb_exist(current_movie_text):\n",
    "        file_name = \"tmdb_\"+current_id_string+\".txt\"\n",
    "        full_path = os.path.join(dir_name, file_name)\n",
    "        with open(full_path, \"wb\") as myfile:\n",
    "            pickle.dump(current_movie_text, myfile)\n",
    "    print \"\\rdownloaded movie id {}/{}, movie exist? {}\".format(current_id_string, \n",
    "                                                                latest_movie_tmdb_id,\n",
    "                                                               tmdb_exist(current_movie_text)),\n",
    "    sys.stdout.flush()\n",
    "    "
   ]
  },
  {
   "cell_type": "code",
   "execution_count": null,
   "metadata": {
    "collapsed": true
   },
   "outputs": [],
   "source": []
  }
 ],
 "metadata": {
  "anaconda-cloud": {},
  "kernelspec": {
   "display_name": "Python [default]",
   "language": "python",
   "name": "python2"
  },
  "language_info": {
   "codemirror_mode": {
    "name": "ipython",
    "version": 2
   },
   "file_extension": ".py",
   "mimetype": "text/x-python",
   "name": "python",
   "nbconvert_exporter": "python",
   "pygments_lexer": "ipython2",
   "version": "2.7.12"
  }
 },
 "nbformat": 4,
 "nbformat_minor": 1
}
