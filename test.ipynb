{
 "cells": [
  {
   "cell_type": "code",
   "execution_count": 6,
   "metadata": {
    "collapsed": false,
    "scrolled": false
   },
   "outputs": [],
   "source": [
    "# get movie information from IMDb\n",
    "from imdb import IMDb\n",
    "ia = IMDb()\n",
    "movie_list = []\n",
    "for number in range(1, 20): # get first 19 movies\n",
    "    movie_id = str(number).zfill(7)\n",
    "    current_movie = ia.get_movie(movie_id)\n",
    "    if len(current_movie) > 0: # if movie found by id\n",
    "        movie_list.append(current_movie)\n",
    "        \n",
    "# write movie list into disk\n",
    "import pickle\n",
    "with open(\"test.txt\", \"wb\") as myfile:\n",
    "    pickle.dump(movie_list, myfile)"
   ]
  },
  {
   "cell_type": "code",
   "execution_count": 1,
   "metadata": {
    "collapsed": false
   },
   "outputs": [],
   "source": [
    "import httplib\n",
    "import json\n",
    "\n",
    "def tmdb_get_latest_movie():\n",
    "    api_key = \"7fbe755e9e83c66a573c6482cefd23ed\"\n",
    "    conn = httplib.HTTPSConnection(\"api.themoviedb.org\")\n",
    "    conn.request(\"GET\", \n",
    "                 \"/3/movie/latest?api_key=\"+api_key, \n",
    "                 \"{}\")\n",
    "    return conn.getresponse().read().decode(\"utf-8\")\n",
    "\n",
    "def tmdb_get_movie_by_imdb_id(imdb_id):\n",
    "    api_key = \"7fbe755e9e83c66a573c6482cefd23ed\"\n",
    "    conn = httplib.HTTPSConnection(\"api.themoviedb.org\")\n",
    "    conn.request(\"GET\", \n",
    "                 \"/3/find/tt\"+str(imdb_id)+\"?api_key=\"+api_key+\"&external_source=imdb_id\", \n",
    "                 \"{}\")\n",
    "    return conn.getresponse().read().decode(\"utf-8\")\n",
    "\n",
    "def tmdb_get_movie_by_tmdb_id(tmdb_id):\n",
    "    api_key = \"7fbe755e9e83c66a573c6482cefd23ed\"\n",
    "    conn = httplib.HTTPSConnection(\"api.themoviedb.org\")\n",
    "    conn.request(\"GET\", \n",
    "                 \"/3/movie/\"+str(tmdb_id)+\"?api_key=\"+api_key, \n",
    "                 \"{}\")\n",
    "    return conn.getresponse().read().decode(\"utf-8\")\n",
    "\n",
    "def tmdb_get_adult(text):\n",
    "    return json.loads(text)['adult']\n",
    "\n",
    "def tmdb_get_collection(text):\n",
    "    return json.loads(text)['belongs_to_collection']\n",
    "\n",
    "def tmdb_get_budget(text):\n",
    "    return json.loads(text)['budget']\n",
    "\n",
    "def tmdb_get_genre(text):\n",
    "    return json.loads(text)['genres']\n",
    "\n",
    "def tmdb_get_tmdb_id(text):\n",
    "    return json.loads(text)['id']\n",
    "\n",
    "def tmdb_get_imdb_id(text):\n",
    "    return json.loads(text)['imdb_id'][2::]\n",
    "\n",
    "def tmdb_get_title(text):\n",
    "    return json.loads(text)['title']\n",
    "\n",
    "def tmdb_get_overview(text):\n",
    "    return json.loads(text)['overview']\n",
    "\n",
    "def tmdb_get_production_companies(text):\n",
    "    return json.loads(text)['production_companies']\n",
    "\n",
    "def tmdb_get_production_countries(text):\n",
    "    return json.loads(text)['production_countries']\n",
    "\n",
    "def tmdb_get_release_date(text):\n",
    "    return json.loads(text)['release_date']\n",
    "\n",
    "def tmdb_get_runtime(text):\n",
    "    return json.loads(text)['runtime']\n",
    "\n",
    "def tmdb_get_spoken_languages(text):\n",
    "    return json.loads(text)['spoken_languages']\n",
    "\n",
    "def tmdb_get_poster_url(text):\n",
    "    return \"https://image.tmdb.org/t/p/w500\" + json.loads(text[1:-5])['poster_path']\n",
    "\n",
    "def tmdb_exist(text):\n",
    "    error_msg = \"The resource you requested could not be found.\"\n",
    "    if error_msg in text:\n",
    "        return False\n",
    "    else:\n",
    "        return True"
   ]
  },
  {
   "cell_type": "code",
   "execution_count": 2,
   "metadata": {
    "collapsed": false
   },
   "outputs": [
    {
     "name": "stdout",
     "output_type": "stream",
     "text": [
      "movie title: Ghost in the Shell\n",
      "IMDb id: 1219827\n",
      "TMDb id: 315837\n",
      "genre: [{u'id': 28, u'name': u'Action'}, {u'id': 18, u'name': u'Drama'}, {u'id': 878, u'name': u'Science Fiction'}]\n",
      "movie poster:\n"
     ]
    },
    {
     "ename": "ValueError",
     "evalue": "Extra data: line 1 column 8 - line 1 column 1086 (char 7 - 1085)",
     "output_type": "error",
     "traceback": [
      "\u001b[0;31m---------------------------------------------------------------------------\u001b[0m",
      "\u001b[0;31mValueError\u001b[0m                                Traceback (most recent call last)",
      "\u001b[0;32m<ipython-input-2-1cfe90ed5ab8>\u001b[0m in \u001b[0;36m<module>\u001b[0;34m()\u001b[0m\n\u001b[1;32m     10\u001b[0m \u001b[0;32mprint\u001b[0m \u001b[0;34m\"genre:\"\u001b[0m\u001b[0;34m,\u001b[0m \u001b[0mtmdb_get_genre\u001b[0m\u001b[0;34m(\u001b[0m\u001b[0mtext\u001b[0m\u001b[0;34m)\u001b[0m\u001b[0;34m\u001b[0m\u001b[0m\n\u001b[1;32m     11\u001b[0m \u001b[0;32mprint\u001b[0m \u001b[0;34m\"movie poster:\"\u001b[0m\u001b[0;34m\u001b[0m\u001b[0m\n\u001b[0;32m---> 12\u001b[0;31m \u001b[0mposter_url\u001b[0m \u001b[0;34m=\u001b[0m \u001b[0mtmdb_get_poster_url\u001b[0m\u001b[0;34m(\u001b[0m\u001b[0mtext\u001b[0m\u001b[0;34m)\u001b[0m\u001b[0;34m\u001b[0m\u001b[0m\n\u001b[0m\u001b[1;32m     13\u001b[0m \u001b[0;34m\u001b[0m\u001b[0m\n\u001b[1;32m     14\u001b[0m \u001b[0;31m# get poster from url\u001b[0m\u001b[0;34m\u001b[0m\u001b[0;34m\u001b[0m\u001b[0m\n",
      "\u001b[0;32m<ipython-input-1-5ae76779b049>\u001b[0m in \u001b[0;36mtmdb_get_poster_url\u001b[0;34m(text)\u001b[0m\n\u001b[1;32m     66\u001b[0m \u001b[0;34m\u001b[0m\u001b[0m\n\u001b[1;32m     67\u001b[0m \u001b[0;32mdef\u001b[0m \u001b[0mtmdb_get_poster_url\u001b[0m\u001b[0;34m(\u001b[0m\u001b[0mtext\u001b[0m\u001b[0;34m)\u001b[0m\u001b[0;34m:\u001b[0m\u001b[0;34m\u001b[0m\u001b[0m\n\u001b[0;32m---> 68\u001b[0;31m     \u001b[0;32mreturn\u001b[0m \u001b[0;34m\"https://image.tmdb.org/t/p/w500\"\u001b[0m \u001b[0;34m+\u001b[0m \u001b[0mjson\u001b[0m\u001b[0;34m.\u001b[0m\u001b[0mloads\u001b[0m\u001b[0;34m(\u001b[0m\u001b[0mtext\u001b[0m\u001b[0;34m[\u001b[0m\u001b[0;36m1\u001b[0m\u001b[0;34m:\u001b[0m\u001b[0;34m-\u001b[0m\u001b[0;36m5\u001b[0m\u001b[0;34m]\u001b[0m\u001b[0;34m)\u001b[0m\u001b[0;34m[\u001b[0m\u001b[0;34m'poster_path'\u001b[0m\u001b[0;34m]\u001b[0m\u001b[0;34m\u001b[0m\u001b[0m\n\u001b[0m\u001b[1;32m     69\u001b[0m \u001b[0;34m\u001b[0m\u001b[0m\n\u001b[1;32m     70\u001b[0m \u001b[0;32mdef\u001b[0m \u001b[0mtmdb_exist\u001b[0m\u001b[0;34m(\u001b[0m\u001b[0mtext\u001b[0m\u001b[0;34m)\u001b[0m\u001b[0;34m:\u001b[0m\u001b[0;34m\u001b[0m\u001b[0m\n",
      "\u001b[0;32m/Users/sophiasi/anaconda/lib/python2.7/json/__init__.pyc\u001b[0m in \u001b[0;36mloads\u001b[0;34m(s, encoding, cls, object_hook, parse_float, parse_int, parse_constant, object_pairs_hook, **kw)\u001b[0m\n\u001b[1;32m    337\u001b[0m             \u001b[0mparse_int\u001b[0m \u001b[0;32mis\u001b[0m \u001b[0mNone\u001b[0m \u001b[0;32mand\u001b[0m \u001b[0mparse_float\u001b[0m \u001b[0;32mis\u001b[0m \u001b[0mNone\u001b[0m \u001b[0;32mand\u001b[0m\u001b[0;34m\u001b[0m\u001b[0m\n\u001b[1;32m    338\u001b[0m             parse_constant is None and object_pairs_hook is None and not kw):\n\u001b[0;32m--> 339\u001b[0;31m         \u001b[0;32mreturn\u001b[0m \u001b[0m_default_decoder\u001b[0m\u001b[0;34m.\u001b[0m\u001b[0mdecode\u001b[0m\u001b[0;34m(\u001b[0m\u001b[0ms\u001b[0m\u001b[0;34m)\u001b[0m\u001b[0;34m\u001b[0m\u001b[0m\n\u001b[0m\u001b[1;32m    340\u001b[0m     \u001b[0;32mif\u001b[0m \u001b[0mcls\u001b[0m \u001b[0;32mis\u001b[0m \u001b[0mNone\u001b[0m\u001b[0;34m:\u001b[0m\u001b[0;34m\u001b[0m\u001b[0m\n\u001b[1;32m    341\u001b[0m         \u001b[0mcls\u001b[0m \u001b[0;34m=\u001b[0m \u001b[0mJSONDecoder\u001b[0m\u001b[0;34m\u001b[0m\u001b[0m\n",
      "\u001b[0;32m/Users/sophiasi/anaconda/lib/python2.7/json/decoder.pyc\u001b[0m in \u001b[0;36mdecode\u001b[0;34m(self, s, _w)\u001b[0m\n\u001b[1;32m    365\u001b[0m         \u001b[0mend\u001b[0m \u001b[0;34m=\u001b[0m \u001b[0m_w\u001b[0m\u001b[0;34m(\u001b[0m\u001b[0ms\u001b[0m\u001b[0;34m,\u001b[0m \u001b[0mend\u001b[0m\u001b[0;34m)\u001b[0m\u001b[0;34m.\u001b[0m\u001b[0mend\u001b[0m\u001b[0;34m(\u001b[0m\u001b[0;34m)\u001b[0m\u001b[0;34m\u001b[0m\u001b[0m\n\u001b[1;32m    366\u001b[0m         \u001b[0;32mif\u001b[0m \u001b[0mend\u001b[0m \u001b[0;34m!=\u001b[0m \u001b[0mlen\u001b[0m\u001b[0;34m(\u001b[0m\u001b[0ms\u001b[0m\u001b[0;34m)\u001b[0m\u001b[0;34m:\u001b[0m\u001b[0;34m\u001b[0m\u001b[0m\n\u001b[0;32m--> 367\u001b[0;31m             \u001b[0;32mraise\u001b[0m \u001b[0mValueError\u001b[0m\u001b[0;34m(\u001b[0m\u001b[0merrmsg\u001b[0m\u001b[0;34m(\u001b[0m\u001b[0;34m\"Extra data\"\u001b[0m\u001b[0;34m,\u001b[0m \u001b[0ms\u001b[0m\u001b[0;34m,\u001b[0m \u001b[0mend\u001b[0m\u001b[0;34m,\u001b[0m \u001b[0mlen\u001b[0m\u001b[0;34m(\u001b[0m\u001b[0ms\u001b[0m\u001b[0;34m)\u001b[0m\u001b[0;34m)\u001b[0m\u001b[0;34m)\u001b[0m\u001b[0;34m\u001b[0m\u001b[0m\n\u001b[0m\u001b[1;32m    368\u001b[0m         \u001b[0;32mreturn\u001b[0m \u001b[0mobj\u001b[0m\u001b[0;34m\u001b[0m\u001b[0m\n\u001b[1;32m    369\u001b[0m \u001b[0;34m\u001b[0m\u001b[0m\n",
      "\u001b[0;31mValueError\u001b[0m: Extra data: line 1 column 8 - line 1 column 1086 (char 7 - 1085)"
     ]
    }
   ],
   "source": [
    "# sample movie TMDb id\n",
    "movie_tmdb_id = 315837\n",
    "\n",
    "# get movie data text\n",
    "text = tmdb_get_movie_by_tmdb_id(movie_tmdb_id)\n",
    "\n",
    "print \"movie title:\", tmdb_get_title(text)\n",
    "print \"IMDb id:\", tmdb_get_imdb_id(text)\n",
    "print \"TMDb id:\", tmdb_get_tmdb_id(text)\n",
    "print \"genre:\", tmdb_get_genre(text)\n",
    "print \"movie poster:\"\n",
    "poster_url = tmdb_get_poster_url(text)\n",
    "\n",
    "# get poster from url\n",
    "io.imshow(io.imread(poster_url))\n",
    "io.show()"
   ]
  },
  {
   "cell_type": "code",
   "execution_count": null,
   "metadata": {
    "collapsed": false
   },
   "outputs": [
    {
     "name": "stdout",
     "output_type": "stream",
     "text": [
      "downloaded movie id 073140/450491, movie exist? True"
     ]
    }
   ],
   "source": [
    "import time\n",
    "import sys\n",
    "import os\n",
    "\n",
    "dir_name = os.path.expanduser('~/tmdb_movie/')\n",
    "if not os.path.exists(dir_name):\n",
    "    os.makedirs(dir_name)\n",
    "\n",
    "latest_movie_text = tmdb_get_latest_movie()\n",
    "latest_movie_tmdb_id = tmdb_get_tmdb_id(latest_movie_text)\n",
    "time.sleep(0.26)\n",
    "\n",
    "for current_id in range(72961, int(latest_movie_tmdb_id)+1):\n",
    "    current_id_string = str(current_id).zfill(6)\n",
    "    current_movie_text = tmdb_get_movie_by_tmdb_id(current_id_string)\n",
    "    time.sleep(0.26)\n",
    "    if tmdb_exist(current_movie_text):\n",
    "        file_name = \"tmdb_\"+current_id_string+\".txt\"\n",
    "        full_path = os.path.join(dir_name, file_name)\n",
    "        with open(full_path, \"wb\") as myfile:\n",
    "            pickle.dump(current_movie_text, myfile)\n",
    "    print \"\\rdownloaded movie id {}/{}, movie exist? {}\".format(current_id_string, \n",
    "                                                                latest_movie_tmdb_id,\n",
    "                                                               tmdb_exist(current_movie_text)),\n",
    "    sys.stdout.flush()\n",
    "    "
   ]
  },
  {
   "cell_type": "code",
   "execution_count": null,
   "metadata": {
    "collapsed": true
   },
   "outputs": [],
   "source": []
  }
 ],
 "metadata": {
  "anaconda-cloud": {},
  "kernelspec": {
   "display_name": "Python [Root]",
   "language": "python",
   "name": "Python [Root]"
  },
  "language_info": {
   "codemirror_mode": {
    "name": "ipython",
    "version": 2
   },
   "file_extension": ".py",
   "mimetype": "text/x-python",
   "name": "python",
   "nbconvert_exporter": "python",
   "pygments_lexer": "ipython2",
   "version": "2.7.12"
  }
 },
 "nbformat": 4,
 "nbformat_minor": 1
}
