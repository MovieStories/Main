{
 "cells": [
  {
   "cell_type": "code",
   "execution_count": 62,
   "metadata": {
    "collapsed": false,
    "scrolled": false
   },
   "outputs": [
    {
     "name": "stderr",
     "output_type": "stream",
     "text": [
      "2017-03-31 14:40:00,326 WARNING [imdbpy.parser.http.urlopener] /Users/hung-yiwu/anaconda/lib/python2.7/site-packages/IMDbPY-5.1-py2.7-macosx-10.6-x86_64.egg/imdb/parser/http/__init__.py:248: 404 code returned for //akas.imdb.com/title/tt0000000/combined: Not Found (headers: Date: Fri, 31 Mar 2017 18:40:00 GMT\n",
      "Server: HTTPDaemon\n",
      "X-Frame-Options: SAMEORIGIN\n",
      "Cache-Control: private\n",
      "Content-Type: text/html; charset=iso-8859-1\n",
      "Set-Cookie: cache=BCYg6kcMVJeHy8U2dSjgnHGy0hBvUwlObY7-WzQ6d4rCVwqpcmoazx5GHlUc8kZZ1eaWlurHrlWCYhJychq91J0Rcfzqb9CpUxXG394bSgowT5Q;path=/;domain=.imdb.com\n",
      "Set-Cookie: uu=BCYntWEfwyXsi160arC96FnKeBFvUwlObY7-WzQ6d4rCVwpjgjh3YjEgBvfAybUCJDXp0TdfYqHrOYoOtgMi4TAyvF9_-Xw1By224BIeJKjaXiiKdSGlf5HC0dMjRSBAVUrju-pFwU9HC4jyfRHKI1DTA7YAhZKVS8kxhHOEAG3zVAsanm_Wxvg2BR1_0mCJ71q-t_FDzAQRoSQdreSRm0xgBzgWlCJL2pmQ9kzEWb6eutJ8S8oSZdu1ywXGzGTJ_PjjARdXdNZhslhLaq1z_Z94qvt1VSyq1SRUXxkKIotPMyYQV3MhRHN_x_zQG-nuSirTmWMEAqzdPec33bObEsQOiw;expires=Thu, 30 Dec 2037 00:00:00 GMT;path=/;domain=.imdb.com\n",
      "Set-Cookie: cache=BCYpKr_svtDvQUoDdyIEUGOR8hJvUwlObY7-WzQ6d4rCVwoNccT8mEt4gITMwAW2a6DPM7Ui3TgJJGJXQdvXrnvcxE_2BAQNGY-m7IHX8qDMzmwqRnETBli6EBSt8VQjDHJEw3IgWEv8obwSa9Ew_61Ze5MSkove2SsjgQEPIjhq-xCxDdFtcq1WbmxfyskKVISt;path=/;domain=.imdb.com\n",
      "Set-Cookie: session-id=712-0985600-3195707;path=/;domain=.imdb.com;expires=Wed, 30 Mar 2022 11:40:00 GMT\n",
      "Set-Cookie: session-id-time=1648665600;path=/;domain=.imdb.com;expires=Wed, 30 Mar 2022 11:40:00 GMT\n",
      "Vary: Accept-Encoding,User-Agent\n",
      "P3P: policyref=\"http://i.imdb.com/images/p3p.xml\",CP=\"CAO DSP LAW CUR ADM IVAo IVDo CONo OTPo OUR DELi PUBi OTRi BUS PHY ONL UNI PUR FIN COM NAV INT DEM CNT STA HEA PRE LOC GOV OTC \"\n",
      "Connection: close\n",
      ")\n",
      "2017-03-31 14:40:00,426 WARNING [imdbpy.parser.http.urlopener] /Users/hung-yiwu/anaconda/lib/python2.7/site-packages/IMDbPY-5.1-py2.7-macosx-10.6-x86_64.egg/imdb/parser/http/__init__.py:248: 404 code returned for //akas.imdb.com/title/tt0000000/plotsummary: Not Found (headers: Date: Fri, 31 Mar 2017 18:39:59 GMT\n",
      "Server: Server\n",
      "X-Frame-Options: SAMEORIGIN\n",
      "Content-Security-Policy: frame-ancestors 'self' imdb.com *.imdb.com *.media-imdb.com withoutabox.com *.withoutabox.com amazon.com *.amazon.com amazon.co.uk *.amazon.co.uk amazon.de *.amazon.de translate.google.com images.google.com www.google.com www.google.co.uk search.aol.com bing.com www.bing.com\n",
      "Content-Type: text/html;charset=UTF-8\n",
      "Content-Language: en-US\n",
      "Vary: Accept-Encoding,User-Agent\n",
      "P3P: policyref=\"http://i.imdb.com/images/p3p.xml\",CP=\"CAO DSP LAW CUR ADM IVAo IVDo CONo OTPo OUR DELi PUBi OTRi BUS PHY ONL UNI PUR FIN COM NAV INT DEM CNT STA HEA PRE LOC GOV OTC \"\n",
      "Connection: close\n",
      ")\n"
     ]
    }
   ],
   "source": [
    "from imdb import IMDb\n",
    "import pickle\n",
    "ia = IMDb()\n",
    "movie_list = []\n",
    "for number in range(1, 20):\n",
    "    movie_id = str(number).zfill(7)\n",
    "    current_movie = ia.get_movie(movie_id)\n",
    "    if len(current_movie) > 0:\n",
    "        movie_list.append(current_movie)\n",
    "with open(\"test.txt\", \"wb\") as myfile:\n",
    "    pickle.dump(movie_list, myfile)"
   ]
  },
  {
   "cell_type": "code",
   "execution_count": 99,
   "metadata": {
    "collapsed": false
   },
   "outputs": [
    {
     "name": "stdout",
     "output_type": "stream",
     "text": [
      "{\"movie_results\":[{\"adult\":false,\"backdrop_path\":null,\"genre_ids\":[99],\"id\":16612,\"original_language\":\"en\",\"original_title\":\"Carmencita\",\"overview\":\"The first woman to appear in front of an Edison motion picture camera and possibly the first woman to appear in a motion picture within the United States. In the film, Carmencita is recorded going through a routine she had been performing at Koster &amp; Bial's in New York since February 1890.\",\"release_date\":\"1894-03-14\",\"poster_path\":\"/6QJowxF4f2hrUtmrDXOqbRDMdDH.jpg\",\"popularity\":1.004496,\"title\":\"Carmencita\",\"video\":false,\"vote_average\":5.2,\"vote_count\":13}],\"person_results\":[],\"tv_results\":[],\"tv_episode_results\":[],\"tv_season_results\":[]}\n"
     ]
    }
   ],
   "source": [
    "import httplib\n",
    "\n",
    "conn = httplib.HTTPSConnection(\"api.themoviedb.org\")\n",
    "\n",
    "payload = \"{}\"\n",
    "\n",
    "conn.request(\"GET\", \"/3/find/tt0000001?api_key=7fbe755e9e83c66a573c6482cefd23ed&language=en-US&external_source=imdb_id\", payload)\n",
    "\n",
    "res = conn.getresponse()\n",
    "data = res.read()\n",
    "\n",
    "print data.decode(\"utf-8\")"
   ]
  }
 ],
 "metadata": {
  "anaconda-cloud": {},
  "kernelspec": {
   "display_name": "Python [default]",
   "language": "python",
   "name": "python2"
  },
  "language_info": {
   "codemirror_mode": {
    "name": "ipython",
    "version": 2
   },
   "file_extension": ".py",
   "mimetype": "text/x-python",
   "name": "python",
   "nbconvert_exporter": "python",
   "pygments_lexer": "ipython2",
   "version": "2.7.12"
  }
 },
 "nbformat": 4,
 "nbformat_minor": 1
}
