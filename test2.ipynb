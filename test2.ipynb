{
 "cells": [
  {
   "cell_type": "code",
   "execution_count": 126,
   "metadata": {
    "collapsed": false
   },
   "outputs": [],
   "source": [
    "import httplib\n",
    "import json\n",
    "\n",
    "def tmdb_get_latest_movie():\n",
    "    api_key = \"7fbe755e9e83c66a573c6482cefd23ed\"\n",
    "    conn = httplib.HTTPSConnection(\"api.themoviedb.org\")\n",
    "    conn.request(\"GET\", \n",
    "                 \"/3/movie/latest?api_key=\"+api_key, \n",
    "                 \"{}\")\n",
    "    return conn.getresponse().read().decode(\"utf-8\")\n",
    "\n",
    "def tmdb_get_movie_by_imdb_id(imdb_id):\n",
    "    api_key = \"7fbe755e9e83c66a573c6482cefd23ed\"\n",
    "    conn = httplib.HTTPSConnection(\"api.themoviedb.org\")\n",
    "    conn.request(\"GET\", \n",
    "                 \"/3/find/tt\"+str(imdb_id)+\"?api_key=\"+api_key+\"&external_source=imdb_id\", \n",
    "                 \"{}\")\n",
    "    return conn.getresponse().read().decode(\"utf-8\")\n",
    "\n",
    "def tmdb_get_movie_by_tmdb_id(tmdb_id):\n",
    "    api_key = \"7fbe755e9e83c66a573c6482cefd23ed\"\n",
    "    conn = httplib.HTTPSConnection(\"api.themoviedb.org\")\n",
    "    conn.request(\"GET\", \n",
    "                 \"/3/movie/\"+str(tmdb_id)+\"?api_key=\"+api_key, \n",
    "                 \"{}\")\n",
    "    return conn.getresponse().read().decode(\"utf-8\")\n",
    "\n",
    "def tmdb_get_adult(text):\n",
    "    return json.loads(text)['adult']\n",
    "\n",
    "def tmdb_get_collection(text):\n",
    "    return json.loads(text)['belongs_to_collection']\n",
    "\n",
    "def tmdb_get_budget(text):\n",
    "    return json.loads(text)['budget']\n",
    "\n",
    "def tmdb_get_genre(text):\n",
    "    return json.loads(text)['genres']\n",
    "\n",
    "def tmdb_get_tmdb_id(text):\n",
    "    return json.loads(text)['id']\n",
    "\n",
    "def tmdb_get_imdb_id(text):\n",
    "    return json.loads(text)['imdb_id'][2::]\n",
    "\n",
    "def tmdb_get_title(text):\n",
    "    return json.loads(text)['title']\n",
    "\n",
    "def tmdb_get_overview(text):\n",
    "    return json.loads(text)['overview']\n",
    "\n",
    "def tmdb_get_production_companies(text):\n",
    "    return json.loads(text)['production_companies']\n",
    "\n",
    "def tmdb_get_production_countries(text):\n",
    "    return json.loads(text)['production_countries']\n",
    "\n",
    "def tmdb_get_release_date(text):\n",
    "    return json.loads(text)['release_date']\n",
    "\n",
    "def tmdb_get_runtime(text):\n",
    "    return json.loads(text)['runtime']\n",
    "\n",
    "def tmdb_get_spoken_languages(text):\n",
    "    return json.loads(text)['spoken_languages']\n",
    "\n",
    "def tmdb_get_poster_url(text):\n",
    "    return \"https://image.tmdb.org/t/p/w500\" + json.loads(text[1:-5])['poster_path']\n",
    "\n",
    "def tmdb_exist(text):\n",
    "    error_msg = \"The resource you requested could not be found.\"\n",
    "    if error_msg in text:\n",
    "        return False\n",
    "    else:\n",
    "        return True"
   ]
  },
  {
   "cell_type": "code",
   "execution_count": 128,
   "metadata": {
    "collapsed": false
   },
   "outputs": [],
   "source": [
    "# get file list\n",
    "from os import listdir\n",
    "from os.path import isfile, join, expanduser\n",
    "import pickle\n",
    "\n",
    "dir_path = expanduser(\"~/tmdb_movie/\")\n",
    "movie_file_list = [f for f in listdir(dir_path) if isfile(join(dir_path, f))]\n",
    "\n",
    "# read file into a list\n",
    "genre_list = []\n",
    "genre_collapse_list = []\n",
    "for movie_file in movie_file_list:\n",
    "    with open(join(dir_path, movie_file), \"rb\") as myfile:\n",
    "        movie_text = pickle.load(myfile)\n",
    "        # get genre\n",
    "        genre_list.append(tmdb_get_genre(movie_text))\n",
    "        genre_collapse_list = genre_collapse_list + tmdb_get_genre(movie_text)"
   ]
  },
  {
   "cell_type": "code",
   "execution_count": 131,
   "metadata": {
    "collapsed": false
   },
   "outputs": [
    {
     "ename": "TypeError",
     "evalue": "unhashable type: 'dict'",
     "output_type": "error",
     "traceback": [
      "\u001b[0;31m---------------------------------------------------------------------------\u001b[0m",
      "\u001b[0;31mTypeError\u001b[0m                                 Traceback (most recent call last)",
      "\u001b[0;32m<ipython-input-131-642603cff7c0>\u001b[0m in \u001b[0;36m<module>\u001b[0;34m()\u001b[0m\n\u001b[1;32m      6\u001b[0m \u001b[0;32mimport\u001b[0m \u001b[0mseaborn\u001b[0m \u001b[0;32mas\u001b[0m \u001b[0msns\u001b[0m\u001b[0;34m\u001b[0m\u001b[0m\n\u001b[1;32m      7\u001b[0m \u001b[0;34m\u001b[0m\u001b[0m\n\u001b[0;32m----> 8\u001b[0;31m \u001b[0;32mprint\u001b[0m \u001b[0mCounter\u001b[0m\u001b[0;34m(\u001b[0m\u001b[0mgenre_collapse_list\u001b[0m\u001b[0;34m)\u001b[0m\u001b[0;34m\u001b[0m\u001b[0m\n\u001b[0m\u001b[1;32m      9\u001b[0m \u001b[0;34m\u001b[0m\u001b[0m\n\u001b[1;32m     10\u001b[0m \u001b[0mdf\u001b[0m \u001b[0;34m=\u001b[0m \u001b[0mpd\u001b[0m\u001b[0;34m.\u001b[0m\u001b[0mDataFrame\u001b[0m\u001b[0;34m.\u001b[0m\u001b[0mfrom_dict\u001b[0m\u001b[0;34m(\u001b[0m\u001b[0mCounter\u001b[0m\u001b[0;34m(\u001b[0m\u001b[0mgenre_collapse_list\u001b[0m\u001b[0;34m)\u001b[0m\u001b[0;34m,\u001b[0m \u001b[0morient\u001b[0m\u001b[0;34m=\u001b[0m\u001b[0;34m'index'\u001b[0m\u001b[0;34m)\u001b[0m\u001b[0;34m\u001b[0m\u001b[0m\n",
      "\u001b[0;32m/Users/hung-yiwu/anaconda/lib/python2.7/collections.pyc\u001b[0m in \u001b[0;36m__init__\u001b[0;34m(*args, **kwds)\u001b[0m\n\u001b[1;32m    475\u001b[0m             \u001b[0;32mraise\u001b[0m \u001b[0mTypeError\u001b[0m\u001b[0;34m(\u001b[0m\u001b[0;34m'expected at most 1 arguments, got %d'\u001b[0m \u001b[0;34m%\u001b[0m \u001b[0mlen\u001b[0m\u001b[0;34m(\u001b[0m\u001b[0margs\u001b[0m\u001b[0;34m)\u001b[0m\u001b[0;34m)\u001b[0m\u001b[0;34m\u001b[0m\u001b[0m\n\u001b[1;32m    476\u001b[0m         \u001b[0msuper\u001b[0m\u001b[0;34m(\u001b[0m\u001b[0mCounter\u001b[0m\u001b[0;34m,\u001b[0m \u001b[0mself\u001b[0m\u001b[0;34m)\u001b[0m\u001b[0;34m.\u001b[0m\u001b[0m__init__\u001b[0m\u001b[0;34m(\u001b[0m\u001b[0;34m)\u001b[0m\u001b[0;34m\u001b[0m\u001b[0m\n\u001b[0;32m--> 477\u001b[0;31m         \u001b[0mself\u001b[0m\u001b[0;34m.\u001b[0m\u001b[0mupdate\u001b[0m\u001b[0;34m(\u001b[0m\u001b[0;34m*\u001b[0m\u001b[0margs\u001b[0m\u001b[0;34m,\u001b[0m \u001b[0;34m**\u001b[0m\u001b[0mkwds\u001b[0m\u001b[0;34m)\u001b[0m\u001b[0;34m\u001b[0m\u001b[0m\n\u001b[0m\u001b[1;32m    478\u001b[0m \u001b[0;34m\u001b[0m\u001b[0m\n\u001b[1;32m    479\u001b[0m     \u001b[0;32mdef\u001b[0m \u001b[0m__missing__\u001b[0m\u001b[0;34m(\u001b[0m\u001b[0mself\u001b[0m\u001b[0;34m,\u001b[0m \u001b[0mkey\u001b[0m\u001b[0;34m)\u001b[0m\u001b[0;34m:\u001b[0m\u001b[0;34m\u001b[0m\u001b[0m\n",
      "\u001b[0;32m/Users/hung-yiwu/anaconda/lib/python2.7/collections.pyc\u001b[0m in \u001b[0;36mupdate\u001b[0;34m(*args, **kwds)\u001b[0m\n\u001b[1;32m    565\u001b[0m                 \u001b[0mself_get\u001b[0m \u001b[0;34m=\u001b[0m \u001b[0mself\u001b[0m\u001b[0;34m.\u001b[0m\u001b[0mget\u001b[0m\u001b[0;34m\u001b[0m\u001b[0m\n\u001b[1;32m    566\u001b[0m                 \u001b[0;32mfor\u001b[0m \u001b[0melem\u001b[0m \u001b[0;32min\u001b[0m \u001b[0miterable\u001b[0m\u001b[0;34m:\u001b[0m\u001b[0;34m\u001b[0m\u001b[0m\n\u001b[0;32m--> 567\u001b[0;31m                     \u001b[0mself\u001b[0m\u001b[0;34m[\u001b[0m\u001b[0melem\u001b[0m\u001b[0;34m]\u001b[0m \u001b[0;34m=\u001b[0m \u001b[0mself_get\u001b[0m\u001b[0;34m(\u001b[0m\u001b[0melem\u001b[0m\u001b[0;34m,\u001b[0m \u001b[0;36m0\u001b[0m\u001b[0;34m)\u001b[0m \u001b[0;34m+\u001b[0m \u001b[0;36m1\u001b[0m\u001b[0;34m\u001b[0m\u001b[0m\n\u001b[0m\u001b[1;32m    568\u001b[0m         \u001b[0;32mif\u001b[0m \u001b[0mkwds\u001b[0m\u001b[0;34m:\u001b[0m\u001b[0;34m\u001b[0m\u001b[0m\n\u001b[1;32m    569\u001b[0m             \u001b[0mself\u001b[0m\u001b[0;34m.\u001b[0m\u001b[0mupdate\u001b[0m\u001b[0;34m(\u001b[0m\u001b[0mkwds\u001b[0m\u001b[0;34m)\u001b[0m\u001b[0;34m\u001b[0m\u001b[0m\n",
      "\u001b[0;31mTypeError\u001b[0m: unhashable type: 'dict'"
     ]
    }
   ],
   "source": [
    "# plot genre frequency bar graph\n",
    "from collections import Counter\n",
    "import matplotlib.pyplot as plt\n",
    "%matplotlib inline\n",
    "import pandas as pd\n",
    "import seaborn as sns\n",
    "\n",
    "print Counter(genre_collapse_list)\n",
    "\n",
    "df = pd.DataFrame.from_dict(Counter(genre_collapse_list), orient='index')\n",
    "df.plot(kind='bar', legend = False)"
   ]
  },
  {
   "cell_type": "markdown",
   "metadata": {},
   "source": [
    "Most frequent genre: Drama, Comedy, Thriller"
   ]
  },
  {
   "cell_type": "code",
   "execution_count": null,
   "metadata": {
    "collapsed": true
   },
   "outputs": [],
   "source": [
    "from itertools import combinations\n",
    "\n",
    "genre_category_list = dict(Counter(genre_collapse_list)).keys()\n",
    "df2 = pd.DataFrame(0, columns = genre_category_list, index = genre_category_list)\n",
    "\n",
    "for genre in genre_list:\n",
    "    for pair in list(combinations(genre, 2)):\n",
    "        df2.loc[pair[0], pair[1]] += 1\n",
    "        df2.loc[pair[1], pair[0]] += 1"
   ]
  },
  {
   "cell_type": "code",
   "execution_count": null,
   "metadata": {
    "collapsed": false
   },
   "outputs": [],
   "source": [
    "sns.heatmap(df2)"
   ]
  },
  {
   "cell_type": "markdown",
   "metadata": {},
   "source": [
    "Most frequent pair: Drama/Comedy, Drama/Romance, Drama/Thriller"
   ]
  }
 ],
 "metadata": {
  "anaconda-cloud": {},
  "kernelspec": {
   "display_name": "Python [default]",
   "language": "python",
   "name": "python2"
  },
  "language_info": {
   "codemirror_mode": {
    "name": "ipython",
    "version": 2
   },
   "file_extension": ".py",
   "mimetype": "text/x-python",
   "name": "python",
   "nbconvert_exporter": "python",
   "pygments_lexer": "ipython2",
   "version": "2.7.12"
  }
 },
 "nbformat": 4,
 "nbformat_minor": 1
}
