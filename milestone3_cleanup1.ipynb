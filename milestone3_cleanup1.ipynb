{
 "cells": [
  {
   "cell_type": "code",
   "execution_count": 1,
   "metadata": {
    "collapsed": false
   },
   "outputs": [],
   "source": [
    "import pickle\n",
    "import pandas as pd\n",
    "import numpy as np"
   ]
  },
  {
   "cell_type": "code",
   "execution_count": 2,
   "metadata": {
    "collapsed": false
   },
   "outputs": [],
   "source": [
    "with open(\"../merged_data.txt\", \"rb\") as myfile:\n",
    "    df = pickle.load(myfile)"
   ]
  },
  {
   "cell_type": "code",
   "execution_count": 3,
   "metadata": {
    "collapsed": false
   },
   "outputs": [],
   "source": [
    "# get month from released date\n",
    "def get_month_from_date(date):\n",
    "    if date == '':\n",
    "        return float('NaN')\n",
    "    else:\n",
    "        return date.split('-')[1]\n",
    "df['month'] = df['release_date'].apply(get_month_from_date)"
   ]
  },
  {
   "cell_type": "code",
   "execution_count": 4,
   "metadata": {
    "collapsed": false
   },
   "outputs": [],
   "source": [
    "df['USAR'] = df['certificates'].apply(lambda x: 1 if type(x) is list and \n",
    "                                      ('USA:R' in x) and \n",
    "                                      ('Australia:M' in x or 'UK:15' in x or 'UK:18' in x) \n",
    "                                      else 0)\n",
    "df['USAX'] = df['certificates'].apply(lambda x: 1 if type(x) is list and \n",
    "                                      'USA:X' in x else 0)\n",
    "df['USA_production'] = df['countries'].apply(lambda x: 1 if type(x) is list and \n",
    "                                             'USA' in x else 0)\n",
    "df['UK_production'] = df['countries'].apply(lambda x: 1 if type(x) is list and \n",
    "                                            'UK' in x else 0)\n",
    "df['Japan_production'] = df['countries'].apply(lambda x: 1 if type(x) is list and \n",
    "                                               'Japan' in x else 0)\n",
    "df['WG_production'] = df['countries'].apply(lambda x: 1 if type(x) is list and \n",
    "                                            'West Germany' in x else 0)\n",
    "df['HK_production'] = df['countries'].apply(lambda x: 1 if type(x) is list and \n",
    "                                            'Hong Kong' in x else 0)\n",
    "df['India_production'] = df['countries'].apply(lambda x: 1 if type(x) is list and \n",
    "                                               'India' in x else 0)\n",
    "df['pre1930'] = df['year'].apply(lambda x: x < 1930)\n",
    "df['post2000'] = df['year'].apply(lambda x: x > 2000)\n",
    "df['revBelow30M'] = df['revenue'].apply(lambda x: (x < 30000000) and (x > 0))\n",
    "df['revAbove500M'] = df['revenue'].apply(lambda x: x > 500000000)"
   ]
  },
  {
   "cell_type": "code",
   "execution_count": 5,
   "metadata": {
    "collapsed": false,
    "scrolled": true
   },
   "outputs": [],
   "source": [
    "# drop some columns\n",
    "df.drop('release_date', axis = 1, inplace = True)\n",
    "df.drop('certificates', axis = 1, inplace = True)\n",
    "df.drop('country codes', axis = 1, inplace = True)\n",
    "df.drop('countries', axis = 1, inplace = True)\n",
    "df.drop('status', axis = 1, inplace = True)\n",
    "df.drop('original_language', axis = 1, inplace = True)\n",
    "df.drop('genres_y', axis = 1, inplace = True)"
   ]
  },
  {
   "cell_type": "code",
   "execution_count": 6,
   "metadata": {
    "collapsed": true
   },
   "outputs": [],
   "source": [
    "df.loc[:, 'merge_genres'] = df['merge_genres'].apply(lambda glist:\n",
    "                                                     'Science Fiction' if glist == 'Sci-Fi'\n",
    "                                                     else glist)"
   ]
  },
  {
   "cell_type": "code",
   "execution_count": 7,
   "metadata": {
    "collapsed": false
   },
   "outputs": [],
   "source": [
    "# convert to numeric data\n",
    "df['year'] = df['year'].apply(lambda x: float('NaN') if pd.isnull(x) else int(x))\n",
    "df['votes'] = df['votes'].apply(lambda x: float('NaN') if pd.isnull(x) else int(x))\n",
    "df['bottom 100 rank'] = df['bottom 100 rank'].apply(lambda x: float('NaN') if pd.isnull(x) else int(x))\n",
    "df['episode'] = df['episode'].apply(lambda x: float('NaN') if pd.isnull(x) else int(x))"
   ]
  },
  {
   "cell_type": "code",
   "execution_count": 8,
   "metadata": {
    "collapsed": false
   },
   "outputs": [],
   "source": [
    "# clean up column \"color info\"\n",
    "def parse_color_info(color_info):\n",
    "    if not (type(color_info) is list):\n",
    "        return float('NaN')\n",
    "    elif 'Black and White' in color_info and len(color_info) == 1:\n",
    "        return 'BW'\n",
    "    elif 'Black and White' in color_info and len(color_info) > 1:\n",
    "        return 'BWC'\n",
    "    else:\n",
    "        return 'C'\n",
    "df['color info'] = df['color info'].apply(parse_color_info)"
   ]
  },
  {
   "cell_type": "code",
   "execution_count": 9,
   "metadata": {
    "collapsed": false
   },
   "outputs": [],
   "source": [
    "# fill in missing value with mode or mean\n",
    "for col in df.columns:\n",
    "    # fill Na\n",
    "    if df[col].dtypes == object:\n",
    "        if any(df[col] == ''):\n",
    "            df.loc[df[col] == '', col] = float('NaN')\n",
    "        count_null = df[col].isnull().sum()\n",
    "        if count_null > 0:\n",
    "            df.loc[:, col] = df[col].fillna(df[col].mode()[0])\n",
    "    elif col == 'bottom 100 rank':\n",
    "        df.loc[:, col] = df[col].fillna(0)\n",
    "    elif col == 'month':\n",
    "        df.loc[:, col] = df[col].fillna(df[col].mode()[0])\n",
    "    else: \n",
    "        df.loc[:, col] = df[col].fillna(df[col].mean())"
   ]
  },
  {
   "cell_type": "code",
   "execution_count": 10,
   "metadata": {
    "collapsed": false
   },
   "outputs": [],
   "source": [
    "from sklearn.preprocessing import MultiLabelBinarizer\n",
    "y = df['merge_genres'].values\n",
    "mb = MultiLabelBinarizer()\n",
    "r = mb.fit_transform(y)\n",
    "for i,c in enumerate(mb.classes_):\n",
    "    df[str(c)] = r[:,i]\n",
    "labels = df[mb.classes_]\n",
    "genre_bin = []\n",
    "for i in range(df.shape[0]): \n",
    "    temp = ''.join(map(str,labels.iloc[i,:].values))\n",
    "    genre_bin.append(temp)\n",
    "df['genre_bin'] = genre_bin"
   ]
  },
  {
   "cell_type": "code",
   "execution_count": 11,
   "metadata": {
    "collapsed": true
   },
   "outputs": [],
   "source": [
    "def combine_sf(x):\n",
    "    if x['Sci-Fi'] == 1 or x['Science Fiction'] == 1:\n",
    "        return 1\n",
    "    else:\n",
    "        return 0\n",
    "    \n",
    "df['Science Fiction'] = df.apply(combine_sf, axis = 1)\n",
    "\n",
    "df.drop('Sci-Fi', axis = 1,inplace=True)"
   ]
  },
  {
   "cell_type": "code",
   "execution_count": 12,
   "metadata": {
    "collapsed": true
   },
   "outputs": [],
   "source": [
    "genre_list = ['Action', 'Adult', 'Adventure', 'Animation', 'Biography',\n",
    "       'Comedy', 'Crime', 'Documentary', 'Drama', 'Family', 'Fantasy',\n",
    "       'Film-Noir', 'Foreign', 'Game-Show', 'History', 'Horror', 'Music',\n",
    "       'Musical', 'Mystery', 'News', 'Reality-TV', 'Romance',\n",
    "       'Science Fiction', 'Short', 'Sport', 'TV Movie', 'Talk-Show',\n",
    "       'Thriller', 'War', 'Western']\n",
    "\n",
    "labels = df[genre_list]\n",
    "\n",
    "genre_bin = []\n",
    "for i in range(df.shape[0]):\n",
    "    \n",
    "    temp = ''.join(map(str,labels.iloc[i,:].values))\n",
    "    genre_bin.append(temp)\n",
    "    \n",
    "df['genre_bin'] = genre_bin"
   ]
  },
  {
   "cell_type": "code",
   "execution_count": 13,
   "metadata": {
    "collapsed": false
   },
   "outputs": [],
   "source": [
    "def merge_genres2(x):\n",
    "    list_b = np.reshape(list(x),(1,-1))[0]\n",
    "    \n",
    "    ind_1 = np.where(list_b == '1')[0]\n",
    "   \n",
    "    find = [genre_list[i] for i in ind_1]\n",
    "    return ','.join(find)\n",
    "\n",
    "# df['genre_bin'][:20].apply(merge_genres2)\n",
    "df['merge_genres'] = df['genre_bin'].apply(merge_genres2)"
   ]
  },
  {
   "cell_type": "code",
   "execution_count": 14,
   "metadata": {
    "collapsed": true
   },
   "outputs": [],
   "source": [
    "with open(\"../merged_data_v3.pkl\", \"wb\") as myfile:\n",
    "    pickle.dump(df, myfile)"
   ]
  },
  {
   "cell_type": "code",
   "execution_count": 15,
   "metadata": {
    "collapsed": true
   },
   "outputs": [],
   "source": [
    "df.to_csv(\"../merged_data_v3.csv\", index = False)"
   ]
  }
 ],
 "metadata": {
  "kernelspec": {
   "display_name": "Python [conda root]",
   "language": "python",
   "name": "conda-root-py"
  },
  "language_info": {
   "codemirror_mode": {
    "name": "ipython",
    "version": 2
   },
   "file_extension": ".py",
   "mimetype": "text/x-python",
   "name": "python",
   "nbconvert_exporter": "python",
   "pygments_lexer": "ipython2",
   "version": "2.7.12"
  }
 },
 "nbformat": 4,
 "nbformat_minor": 1
}
