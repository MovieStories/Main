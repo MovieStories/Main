{
 "cells": [
  {
   "cell_type": "markdown",
   "metadata": {},
   "source": [
    "# Milestone 2: Assembling training data, due Wednesday, April 12, 2017\n",
    "\n",
    "### Group 11: Xu Si, Hungyi Wu, Chongfan Tai"
   ]
  },
  {
   "cell_type": "markdown",
   "metadata": {},
   "source": [
    "We are aware that you have little time this week, due to the midterm. So this milestone is a bit easier to achieve than the others. The goal for this week is to prepare the data for the modeling phase of the project. **You should end up with a typical data setup of training data X and data labels Y.**\n",
    "\n",
    "The exact form of X and Y depends on the ideas you had previously. In general though Y should involve the genre of a movie, and X the features you want to include to predict the genre. Remember from the lecture that more features does not necessarily equal better prediction performance. Use your application knowledge and the insight you gathered from your genre pair analysis and additional EDA to design Y. **Do you want to include all genres?** Are there genres that you assume to be easier to separate than others? Are there genres that could be grouped together? There is no one right answer here. We are looking for your insight, so be sure to describe your decision process in your notebook. \n",
    "\n",
    "In preparation for the deep learning part we strongly encourage you to have **two sets of training data X**, one with the metadata and one with the movie posters. Make sure to have a common key, like the movie ID, to be able to link the two sets together. Also be mindful of the data rate when you obtain the posters. Time your requests and choose which **poster resolution** you need. In most cases w500 should be sufficient, and probably a lower resolution will be fine.\n",
    "\n",
    "The notebook to submit this week should at least include:\n",
    "\n",
    "- Discussion about the imbalanced nature of the data and how you want to address it\n",
    "- Description of your data\n",
    "- What does your choice of Y look like?\n",
    "- Which features do you choose for X and why? \n",
    "- How do you **sample your data, how many samples**, and why?\n",
    "\n",
    "*Important*: You do not need to upload the data itself to Canvas."
   ]
  },
  {
   "cell_type": "code",
   "execution_count": 45,
   "metadata": {
    "collapsed": true
   },
   "outputs": [],
   "source": [
    "import numpy as np\n",
    "import pickle\n",
    "import pandas as pd\n",
    "import matplotlib \n",
    "from matplotlib import pyplot as plt\n",
    "import seaborn as sns\n",
    "import ast\n",
    "from collections import Counter\n",
    "%matplotlib inline"
   ]
  },
  {
   "cell_type": "markdown",
   "metadata": {},
   "source": [
    "## Look at our data!"
   ]
  },
  {
   "cell_type": "code",
   "execution_count": 28,
   "metadata": {
    "collapsed": false
   },
   "outputs": [],
   "source": [
    "with open(\"Final!.txt\", \"rb\") as input_file:\n",
    "     merged = pickle.load(input_file)"
   ]
  },
  {
   "cell_type": "code",
   "execution_count": 29,
   "metadata": {
    "collapsed": false,
    "scrolled": false
   },
   "outputs": [
    {
     "name": "stdout",
     "output_type": "stream",
     "text": [
      "(226888, 49)\n"
     ]
    },
    {
     "data": {
      "text/html": [
       "<div>\n",
       "<table border=\"1\" class=\"dataframe\">\n",
       "  <thead>\n",
       "    <tr style=\"text-align: right;\">\n",
       "      <th></th>\n",
       "      <th>popularity</th>\n",
       "      <th>color info</th>\n",
       "      <th>revenue</th>\n",
       "      <th>editorial department_count</th>\n",
       "      <th>budget</th>\n",
       "      <th>production_companies_count</th>\n",
       "      <th>video</th>\n",
       "      <th>year</th>\n",
       "      <th>art department_count</th>\n",
       "      <th>id</th>\n",
       "      <th>...</th>\n",
       "      <th>release_date</th>\n",
       "      <th>transportation department_count</th>\n",
       "      <th>casting director_count</th>\n",
       "      <th>costume designer_count</th>\n",
       "      <th>genres_y</th>\n",
       "      <th>title_y_count</th>\n",
       "      <th>overview_count</th>\n",
       "      <th>vote_average</th>\n",
       "      <th>distributors_count</th>\n",
       "      <th>art direction_count</th>\n",
       "    </tr>\n",
       "  </thead>\n",
       "  <tbody>\n",
       "    <tr>\n",
       "      <th>0</th>\n",
       "      <td>0.000576</td>\n",
       "      <td>['Black and White']</td>\n",
       "      <td>0</td>\n",
       "      <td>0</td>\n",
       "      <td>0</td>\n",
       "      <td>2</td>\n",
       "      <td>False</td>\n",
       "      <td>1939.0</td>\n",
       "      <td>0</td>\n",
       "      <td>188768</td>\n",
       "      <td>...</td>\n",
       "      <td>1939-11-25</td>\n",
       "      <td>0</td>\n",
       "      <td>0</td>\n",
       "      <td>1</td>\n",
       "      <td>[u'Crime', u'Drama']</td>\n",
       "      <td>16</td>\n",
       "      <td>141</td>\n",
       "      <td>6.5</td>\n",
       "      <td>3</td>\n",
       "      <td>1</td>\n",
       "    </tr>\n",
       "    <tr>\n",
       "      <th>1</th>\n",
       "      <td>0.000343</td>\n",
       "      <td>['Black and White']</td>\n",
       "      <td>0</td>\n",
       "      <td>0</td>\n",
       "      <td>0</td>\n",
       "      <td>1</td>\n",
       "      <td>False</td>\n",
       "      <td>1940.0</td>\n",
       "      <td>0</td>\n",
       "      <td>218310</td>\n",
       "      <td>...</td>\n",
       "      <td>1940-12-20</td>\n",
       "      <td>0</td>\n",
       "      <td>0</td>\n",
       "      <td>1</td>\n",
       "      <td>[u'Drama']</td>\n",
       "      <td>15</td>\n",
       "      <td>509</td>\n",
       "      <td>0.0</td>\n",
       "      <td>4</td>\n",
       "      <td>0</td>\n",
       "    </tr>\n",
       "    <tr>\n",
       "      <th>2</th>\n",
       "      <td>0.000213</td>\n",
       "      <td>['Black and White']</td>\n",
       "      <td>0</td>\n",
       "      <td>0</td>\n",
       "      <td>0</td>\n",
       "      <td>1</td>\n",
       "      <td>False</td>\n",
       "      <td>1941.0</td>\n",
       "      <td>0</td>\n",
       "      <td>73155</td>\n",
       "      <td>...</td>\n",
       "      <td>1941-08-02</td>\n",
       "      <td>0</td>\n",
       "      <td>0</td>\n",
       "      <td>1</td>\n",
       "      <td>[u'Comedy']</td>\n",
       "      <td>32</td>\n",
       "      <td>542</td>\n",
       "      <td>0.0</td>\n",
       "      <td>0</td>\n",
       "      <td>0</td>\n",
       "    </tr>\n",
       "    <tr>\n",
       "      <th>3</th>\n",
       "      <td>0.001449</td>\n",
       "      <td>['Black and White']</td>\n",
       "      <td>0</td>\n",
       "      <td>0</td>\n",
       "      <td>0</td>\n",
       "      <td>1</td>\n",
       "      <td>False</td>\n",
       "      <td>1894.0</td>\n",
       "      <td>0</td>\n",
       "      <td>16612</td>\n",
       "      <td>...</td>\n",
       "      <td>1894-03-14</td>\n",
       "      <td>0</td>\n",
       "      <td>0</td>\n",
       "      <td>0</td>\n",
       "      <td>[u'Documentary']</td>\n",
       "      <td>10</td>\n",
       "      <td>294</td>\n",
       "      <td>5.1</td>\n",
       "      <td>2</td>\n",
       "      <td>0</td>\n",
       "    </tr>\n",
       "    <tr>\n",
       "      <th>4</th>\n",
       "      <td>0.000162</td>\n",
       "      <td>['Color::(hand painted)']</td>\n",
       "      <td>0</td>\n",
       "      <td>0</td>\n",
       "      <td>0</td>\n",
       "      <td>0</td>\n",
       "      <td>False</td>\n",
       "      <td>1892.0</td>\n",
       "      <td>0</td>\n",
       "      <td>16613</td>\n",
       "      <td>...</td>\n",
       "      <td>1892-10-27</td>\n",
       "      <td>0</td>\n",
       "      <td>0</td>\n",
       "      <td>0</td>\n",
       "      <td>[u'Animation']</td>\n",
       "      <td>22</td>\n",
       "      <td>46</td>\n",
       "      <td>0.0</td>\n",
       "      <td>0</td>\n",
       "      <td>0</td>\n",
       "    </tr>\n",
       "  </tbody>\n",
       "</table>\n",
       "<p>5 rows × 49 columns</p>\n",
       "</div>"
      ],
      "text/plain": [
       "   popularity                 color info  revenue  editorial department_count  \\\n",
       "0    0.000576        ['Black and White']        0                           0   \n",
       "1    0.000343        ['Black and White']        0                           0   \n",
       "2    0.000213        ['Black and White']        0                           0   \n",
       "3    0.001449        ['Black and White']        0                           0   \n",
       "4    0.000162  ['Color::(hand painted)']        0                           0   \n",
       "\n",
       "   budget  production_companies_count  video    year  art department_count  \\\n",
       "0       0                           2  False  1939.0                     0   \n",
       "1       0                           1  False  1940.0                     0   \n",
       "2       0                           1  False  1941.0                     0   \n",
       "3       0                           1  False  1894.0                     0   \n",
       "4       0                           0  False  1892.0                     0   \n",
       "\n",
       "       id         ...          release_date  transportation department_count  \\\n",
       "0  188768         ...            1939-11-25                                0   \n",
       "1  218310         ...            1940-12-20                                0   \n",
       "2   73155         ...            1941-08-02                                0   \n",
       "3   16612         ...            1894-03-14                                0   \n",
       "4   16613         ...            1892-10-27                                0   \n",
       "\n",
       "  casting director_count  costume designer_count              genres_y  \\\n",
       "0                      0                       1  [u'Crime', u'Drama']   \n",
       "1                      0                       1            [u'Drama']   \n",
       "2                      0                       1           [u'Comedy']   \n",
       "3                      0                       0      [u'Documentary']   \n",
       "4                      0                       0        [u'Animation']   \n",
       "\n",
       "   title_y_count  overview_count  vote_average  distributors_count  \\\n",
       "0             16             141           6.5                   3   \n",
       "1             15             509           0.0                   4   \n",
       "2             32             542           0.0                   0   \n",
       "3             10             294           5.1                   2   \n",
       "4             22              46           0.0                   0   \n",
       "\n",
       "  art direction_count  \n",
       "0                   1  \n",
       "1                   0  \n",
       "2                   0  \n",
       "3                   0  \n",
       "4                   0  \n",
       "\n",
       "[5 rows x 49 columns]"
      ]
     },
     "execution_count": 29,
     "metadata": {},
     "output_type": "execute_result"
    }
   ],
   "source": [
    "print data.shape\n",
    "data.head(5)"
   ]
  },
  {
   "cell_type": "code",
   "execution_count": 40,
   "metadata": {
    "collapsed": false
   },
   "outputs": [],
   "source": [
    "data['merge_genres'] = data['merge_genres'].apply(ast.literal_eval)"
   ]
  },
  {
   "cell_type": "markdown",
   "metadata": {},
   "source": [
    "### I. Discussion about the imbalanced nature of the data and how you want to address it "
   ]
  },
  {
   "cell_type": "markdown",
   "metadata": {
    "collapsed": true,
    "deletable": true,
    "editable": true
   },
   "source": [
    "No matter what genres encoding we choose, we will face the problem of class imbalance. To deal with this problem, we choose to:\n",
    "\n",
    "1. We will consider stratified sampling to make sure the train set and test set have the same proportion movies of different genres. The same strategy applies to cross-validation.\n",
    "\n",
    "2. We may also consider resampling and downsampling to make sure all the genres are balanced."
   ]
  },
  {
   "cell_type": "markdown",
   "metadata": {},
   "source": [
    "###  II. Description of your data \n",
    "\n",
    "We have downloaded all the data from IMDb and TMDb!\n",
    "\n",
    "We use movie ID in IMDb to merge the desired information in the megadata from IMDb and TMDb: If the genre labels are different from IMDb and TMDb for a movie, we keep the joint labels (if no intersection is found, we remove the movie). If the genre labels are missing from one database, we use the genre tags from the other database directly. If both have null genre values, we remove the movie from our dataset.\n",
    "\n",
    "**We end up with 226,888 movies!**"
   ]
  },
  {
   "cell_type": "markdown",
   "metadata": {},
   "source": [
    "### III. What does your choice of Y look like? \n",
    "\n",
    "We decide to use three sets of Y:\n",
    "\n",
    "1) **Binary class problem drama vs. non-drama**: Since there are so many drama moives in the whole dataset, we are interested in telling the differences between the drama movies and non-drama movies. If we see \"drama\" in the labels of a movie, we label it as drama and if not, we lable it as non-drama.\n",
    "\n",
    "2) **Multi-class problem Top 20 genres/genres groups**: We show below the top 20 most frequent genres and/or groups of genres. We aggregate all other less frequent genres together and treat as “others”. We may include the “others” in the modeling depending on whether it can contribute to the classification accuracy. \n",
    "\n",
    "> *The reason we are doing this way is that, e.g. movie A is labeled as romance and movie B is labeled as drama and still we have another movie C labeled both romance and drama. We can not simply say movie C is either romance or drama because it shows both properties. What we do is to give three candidate genres: pure romance, pure drama and drama&romance which makes more sense in the movie classification case. Now, if a fourth movie comes with label \"drama, romance, history and war\", we again treat it as a new label \"drama, romance, history and war\" instead of assigning it to one of the \"romance\", \"history\",\"war\" and \"drama\". Done!*\n",
    "\n",
    ">**Why top 20s**? We can not consider all the labels that we see in our dataset. For example, we may see a movie labels as \"romance, drama, documentary\" and another labeled as \"drama, music, horror, war\", and we shall have **5221** different labels!! OMG! So we decide to choose the most representative genre labels to treat all the rest as \"others.\"\n",
    "\n",
    ">*Also, it is really hard to come up with a good way to aggregate the genres. For example, if we combine \"romance\" and \"drama\" as one group, and we decide to label a movie of \"romance, drama\" this way, it should be fine. Then if we have another movie of \"romance, drama, war\", then we are in trouble labeling this movie. Does it belong to \"romance & drama\" or to \"war\"? We will encounter this problem millions of times!*\n",
    "\n",
    ">*We have also thought this way: for a movie of \"romance, drama\", we transform this movie into two movies of different genres but the same features. In other words, we duplicate the movie twice with one single label each. But, it may confuse the classifier! The same information is given to two classes! Not good! So end up getting rid of this idea.* \n",
    "\n",
    "3) **Multi-label problem: ** We will also consider **multilabel problem**. It accords with our original dataset and we are not losing any information! Great. \n",
    "\n",
    "Okay, so, we all agree on the three reasonable labeling methods, the next step is to select and tranform the x feautures as we shall explain below!\n",
    "\n",
    "**Yet another idea**: we can split all the movies into before 1960s and after 1960s and train two models, because the budgets and revenue may change over time, also attributes of movies involve over time."
   ]
  },
  {
   "cell_type": "markdown",
   "metadata": {},
   "source": [
    "**All the genres**"
   ]
  },
  {
   "cell_type": "code",
   "execution_count": 46,
   "metadata": {
    "collapsed": false,
    "scrolled": true
   },
   "outputs": [],
   "source": [
    "genre_collapse_list = []\n",
    "for e in data['merge_genres'].values:\n",
    "    genre_collapse_list += e\n",
    "genre_category_list = dict(Counter(genre_collapse_list)).keys()"
   ]
  },
  {
   "cell_type": "code",
   "execution_count": 48,
   "metadata": {
    "collapsed": false,
    "scrolled": true
   },
   "outputs": [
    {
     "data": {
      "text/plain": [
       "array([[u'Mystery', u'Short', u'Sci-Fi', u'Talk-Show', u'Crime',\n",
       "        u'Romance', u'Animation', u'Music', u'Foreign', u'Action',\n",
       "        u'TV Movie', u'Game-Show', u'Comedy', u'Documentary', u'War',\n",
       "        u'History', u'Drama', u'Biography', u'Family', u'Fantasy',\n",
       "        u'Horror', u'Film-Noir', u'Musical', u'Science Fiction',\n",
       "        u'Western', u'Adult', u'News', u'Sport', u'Reality-TV',\n",
       "        u'Thriller', u'Adventure']], \n",
       "      dtype='<U15')"
      ]
     },
     "execution_count": 48,
     "metadata": {},
     "output_type": "execute_result"
    }
   ],
   "source": [
    "#all the genres we have \n",
    "np.reshape(genre_category_list,newshape= (1,-1))"
   ]
  },
  {
   "cell_type": "markdown",
   "metadata": {},
   "source": [
    "**All unique labels**"
   ]
  },
  {
   "cell_type": "code",
   "execution_count": 49,
   "metadata": {
    "collapsed": false
   },
   "outputs": [
    {
     "data": {
      "text/plain": [
       "5221"
      ]
     },
     "execution_count": 49,
     "metadata": {},
     "output_type": "execute_result"
    }
   ],
   "source": [
    "len(data['merge_genres'].value_counts())"
   ]
  },
  {
   "cell_type": "markdown",
   "metadata": {},
   "source": [
    "**Top genre labels of a movie**"
   ]
  },
  {
   "cell_type": "code",
   "execution_count": 41,
   "metadata": {
    "collapsed": false,
    "scrolled": false
   },
   "outputs": [
    {
     "data": {
      "text/plain": [
       "<matplotlib.text.Annotation at 0x153576510>"
      ]
     },
     "execution_count": 41,
     "metadata": {},
     "output_type": "execute_result"
    },
    {
     "data": {
      "image/png": "[encoded data removed]",
      "text/plain": [
       "<matplotlib.figure.Figure at 0x11924cd90>"
      ]
     },
     "metadata": {},
     "output_type": "display_data"
    }
   ],
   "source": [
    "plt.figure(figsize=(20,10))\n",
    "data['merge_genres'].value_counts()[:30].plot(kind = \"barh\")\n",
    "plt.gca().invert_yaxis()\n",
    "plt.axhline(y = 20, linestyle = \"--\", color = \"r\", linewidth = 1)\n",
    "plt.annotate(\"Top 20\", xy = (6000, 18))"
   ]
  },
  {
   "cell_type": "markdown",
   "metadata": {},
   "source": [
    "### IV. Which features do you choose for X and why? \n",
    "\n",
    "The X includes following features:\n",
    "\n",
    "Movie ID, movie title, release date, year, popularity, votes (IMDb), vote average (TMDb), vote count, revenue, budget, runtime, spoken languages, status, episode, video, bottom 100 rank, cast, certificates, color info, countries, director, distributors, writer, adult, original language, overview, production companies, production countries, tagline, animation department headcount, art department headcount, art direction headcount, assistant director headcount, camera and electrical department headcount, cast headcount, casting department headcount, casting director headcount, cinematographer headcount, costume department headcount, costume designer headcount, creator headcount, director headcount, distributors headcount, editor headcount, editorial department headcount, electrical department headcount, transportation department headcount, visual effects count, writer headcount, title length, overview length, production company number, production country number, spoken languages choice, tagline length, and total crew headcount.\n",
    "\n",
    "We retain almost all the features from IMDb and TMDb. There are three things to mention:\n",
    "\n",
    "1) We decide to **count the number of crew** instead to using their names. For example, under the \"electrical department\"  feature, we may have 20 people names, then we use \"20\" as our new feature. The reason is that we think, e.g., action movies will need more people to support in the back, while documentary movies may require less amount of labors. \n",
    "\n",
    "2) We also count the title **lengths**, overview lengths... and anything that deals with pure texts.\n",
    "\n",
    "3) We also consider the **release date**. In fact, we create a new feature as \"Month\". We think during summertime and holidays, there will be more big movies showcases!\n",
    "\n",
    "4) We are still trying to** collect information** about the first several actors, the main directors and writers which we think may contribute of the genre of a movie.\n",
    "\n",
    "We believe these attributes convey the information that are useful for classifying movies by genres. "
   ]
  },
  {
   "cell_type": "markdown",
   "metadata": {},
   "source": [
    "### V. How do you sample your data, how many samples, and why? \n",
    "\n",
    "For the metadata, we have downloaded all the data from IMDb and TMDb, and we will apply our models and methods on the entire dataset. \n",
    "\n",
    "For the posters, due to the limited storage, we plan to randomly select 300 posters from each decade. Thus, in total we will have around 50,000 images to play with, which is really doable for the deeplearning model. \n",
    "\n",
    "We want make sure that we cover movies across time and reflect the overall difference between genres.\n"
   ]
  }
 ],
 "metadata": {
  "kernelspec": {
   "display_name": "Python [Root]",
   "language": "python",
   "name": "Python [Root]"
  },
  "language_info": {
   "codemirror_mode": {
    "name": "ipython",
    "version": 2
   },
   "file_extension": ".py",
   "mimetype": "text/x-python",
   "name": "python",
   "nbconvert_exporter": "python",
   "pygments_lexer": "ipython2",
   "version": "2.7.12"
  }
 },
 "nbformat": 4,
 "nbformat_minor": 2
}
